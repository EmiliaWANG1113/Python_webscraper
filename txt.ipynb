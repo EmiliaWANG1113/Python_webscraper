{
 "cells": [
  {
   "cell_type": "code",
   "execution_count": 7,
   "id": "71a7a8fd",
   "metadata": {},
   "outputs": [
    {
     "name": "stdout",
     "output_type": "stream",
     "text": [
      "5\n",
      "0\n"
     ]
    }
   ],
   "source": [
    "f = open( 'test.txt', 'w+')\n",
    "f.write( '0123456789abcdef')\n",
    "f.seek(5) #定位到文件的第 6 個位元組\n",
    "print(f.read(1))\n",
    "f.seek(0) #定位到檔案的開始\n",
    "print(f.read(1))"
   ]
  },
  {
   "cell_type": "code",
   "execution_count": 9,
   "id": "ecfecb5f",
   "metadata": {},
   "outputs": [
    {
     "name": "stdout",
     "output_type": "stream",
     "text": [
      "34  78  47  787  84  25  69  25 58  67  52  77 12  67 325  33\n"
     ]
    }
   ],
   "source": [
    "f=open (\"data1.txt\")\n",
    "a= f.read()\n",
    "print(a)"
   ]
  },
  {
   "cell_type": "code",
   "execution_count": 10,
   "id": "20cb1df3",
   "metadata": {},
   "outputs": [
    {
     "name": "stdout",
     "output_type": "stream",
     "text": [
      "['34', '78', '47', '787', '84', '25', '69', '25', '58', '67', '52', '77', '12', '67', '325', '33']\n"
     ]
    }
   ],
   "source": [
    "L1= a.split( )\n",
    "print(L1)"
   ]
  },
  {
   "cell_type": "code",
   "execution_count": 11,
   "id": "8f245e47",
   "metadata": {},
   "outputs": [
    {
     "name": "stdout",
     "output_type": "stream",
     "text": [
      "['34  78  47  787  84  25  69  25 58  67  52  77 12  67 325  33']\n"
     ]
    }
   ],
   "source": [
    "f.seek(0)\n",
    "a = f.readlines( )\n",
    "print(a)"
   ]
  },
  {
   "cell_type": "code",
   "execution_count": 12,
   "id": "ebee1630",
   "metadata": {},
   "outputs": [
    {
     "name": "stdout",
     "output_type": "stream",
     "text": [
      "['34', '78', '47', '787', '84', '25', '69', '25', '58', '67', '52', '77', '12', '67', '325', '33']\n"
     ]
    }
   ],
   "source": [
    "L1 = a[0].split()\n",
    "print(L1)\n",
    "f.close( )"
   ]
  },
  {
   "cell_type": "code",
   "execution_count": 13,
   "id": "522eee7f",
   "metadata": {},
   "outputs": [
    {
     "name": "stdout",
     "output_type": "stream",
     "text": [
      "[34, 78, 47, 787, 84, 25, 69, 25, 58, 67, 52, 77, 12, 67, 325, 33]\n"
     ]
    }
   ],
   "source": [
    "for i in range(0,len(L1)): \n",
    "    L1[ i] =int(L1[i])\n",
    "print(L1)"
   ]
  },
  {
   "cell_type": "code",
   "execution_count": 14,
   "id": "4f5f2d29",
   "metadata": {},
   "outputs": [
    {
     "name": "stdout",
     "output_type": "stream",
     "text": [
      "34\n",
      "78\n",
      "47\n",
      "787\n",
      "84\n",
      "25\n",
      "69\n",
      "25\n",
      "58\n",
      "67\n",
      "52\n",
      "77\n",
      "12\n",
      "67\n",
      "325\n",
      "33\n"
     ]
    }
   ],
   "source": [
    "f= open(\"data2.txt\", \"r+\")\n",
    "a= f.read()\n",
    "print(a)"
   ]
  },
  {
   "cell_type": "code",
   "execution_count": 15,
   "id": "f99720aa",
   "metadata": {},
   "outputs": [
    {
     "name": "stdout",
     "output_type": "stream",
     "text": [
      "['34', '78', '47', '787', '84', '25', '69', '25', '58', '67', '52', '77', '12', '67', '325', '33']\n"
     ]
    }
   ],
   "source": [
    "L2 = a.splitlines()\n",
    "print(L2)"
   ]
  },
  {
   "cell_type": "code",
   "execution_count": 16,
   "id": "ac4c8ecf",
   "metadata": {},
   "outputs": [
    {
     "name": "stdout",
     "output_type": "stream",
     "text": [
      "['34\\n', '78\\n', '47\\n', '787\\n', '84\\n', '25\\n', '69\\n', '25\\n', '58\\n', '67\\n', '52\\n', '77\\n', '12\\n', '67\\n', '325\\n', '33']\n"
     ]
    }
   ],
   "source": [
    "f= open(\"data2.txt\", \"r+\")\n",
    "L3 = f.readlines()\n",
    "print(L3)\n",
    "f.close( )"
   ]
  },
  {
   "cell_type": "markdown",
   "id": "edc41530",
   "metadata": {},
   "source": [
    "### 多列多行"
   ]
  },
  {
   "cell_type": "code",
   "execution_count": 17,
   "id": "482c4886",
   "metadata": {},
   "outputs": [
    {
     "name": "stdout",
     "output_type": "stream",
     "text": [
      "679\t69\t191\t510\t73\t815\t182\t583\t96\n",
      "153\t450\t109\t107\t443\t371\t140\t136\t242\n",
      "206\t236\t378\t993\t802\t131\t428\t94\t169\n",
      "572\t201\t687\t30\t53\t519\t58\t247\t891\n",
      "727\t934\t441\t518\t94\t942\t587\t389\t799\n",
      "\n"
     ]
    }
   ],
   "source": [
    "f = open(\"data3.txt\")\n",
    "a= f.read()\n",
    "print(a)"
   ]
  },
  {
   "cell_type": "code",
   "execution_count": 18,
   "id": "4ae75eda",
   "metadata": {},
   "outputs": [
    {
     "name": "stdout",
     "output_type": "stream",
     "text": [
      "['679', '69', '191', '510', '73', '815', '182', '583', '96', '153', '450', '109', '107', '443', '371', '140', '136', '242', '206', '236', '378', '993', '802', '131', '428', '94', '169', '572', '201', '687', '30', '53', '519', '58', '247', '891', '727', '934', '441', '518', '94', '942', '587', '389', '799']\n"
     ]
    }
   ],
   "source": [
    "L3= a.split()\n",
    "print(L3)\n",
    "f.close( )"
   ]
  },
  {
   "cell_type": "code",
   "execution_count": 19,
   "id": "0ecd221c",
   "metadata": {},
   "outputs": [
    {
     "name": "stdout",
     "output_type": "stream",
     "text": [
      "['679\\t69\\t191\\t510\\t73\\t815\\t182\\t583\\t96\\n', '153\\t450\\t109\\t107\\t443\\t371\\t140\\t136\\t242\\n', '206\\t236\\t378\\t993\\t802\\t131\\t428\\t94\\t169\\n', '572\\t201\\t687\\t30\\t53\\t519\\t58\\t247\\t891\\n', '727\\t934\\t441\\t518\\t94\\t942\\t587\\t389\\t799\\n']\n"
     ]
    }
   ],
   "source": [
    "L4 = list( open(\"data3.txt\"))\n",
    "print(L4)"
   ]
  },
  {
   "cell_type": "code",
   "execution_count": 20,
   "id": "511919da",
   "metadata": {},
   "outputs": [
    {
     "name": "stdout",
     "output_type": "stream",
     "text": [
      "['679', '69', '191', '510', '73', '815', '182', '583', '96', '153', '450', '109', '107', '443', '371', '140', '136', '242', '206', '236', '378', '993', '802', '131', '428', '94', '169', '572', '201', '687', '30', '53', '519', '58', '247', '891', '727', '934', '441', '518', '94', '942', '587', '389', '799']\n"
     ]
    }
   ],
   "source": [
    "L5= []\n",
    "for i in L4:\n",
    "    L5.extend( i.split( ) )\n",
    "print(L5)"
   ]
  },
  {
   "cell_type": "code",
   "execution_count": 21,
   "id": "ab545d79",
   "metadata": {},
   "outputs": [
    {
     "name": "stdout",
     "output_type": "stream",
     "text": [
      "[679, 69, 191, 510, 73, 815, 182, 583, 96, 153, 450, 109, 107, 443, 371, 140, 136, 242, 206, 236, 378, 993, 802, 131, 428, 94, 169, 572, 201, 687, 30, 53, 519, 58, 247, 891, 727, 934, 441, 518, 94, 942, 587, 389, 799]\n"
     ]
    }
   ],
   "source": [
    "for i in range( 0 ,len(L5)):\n",
    "    L5[i] =int(L5[ i])\n",
    "print(L5)"
   ]
  }
 ],
 "metadata": {
  "kernelspec": {
   "display_name": "Python 3",
   "language": "python",
   "name": "python3"
  },
  "language_info": {
   "codemirror_mode": {
    "name": "ipython",
    "version": 3
   },
   "file_extension": ".py",
   "mimetype": "text/x-python",
   "name": "python",
   "nbconvert_exporter": "python",
   "pygments_lexer": "ipython3",
   "version": "3.8.8"
  }
 },
 "nbformat": 4,
 "nbformat_minor": 5
}
