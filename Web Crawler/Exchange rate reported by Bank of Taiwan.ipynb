{
 "cells": [
  {
   "cell_type": "code",
   "execution_count": 1,
   "id": "a3360806",
   "metadata": {},
   "outputs": [],
   "source": [
    "#抓取台銀匯率資訊\n",
    "import requests\n",
    "from bs4 import BeautifulSoup\n",
    "import csv\n",
    "from time import localtime, strftime, strptime, mktime\n",
    "from datetime import datetime\n",
    "from os.path import exists"
   ]
  },
  {
   "cell_type": "code",
   "execution_count": 2,
   "id": "dee8294d",
   "metadata": {},
   "outputs": [],
   "source": [
    "html = requests.get(\"https://rate.bot.com.tw/xrt?Lang=zh-TW\")\n",
    "bsObj = BeautifulSoup(html.content, \"lxml\")"
   ]
  },
  {
   "cell_type": "code",
   "execution_count": 4,
   "id": "c5e62079",
   "metadata": {},
   "outputs": [
    {
     "name": "stdout",
     "output_type": "stream",
     "text": [
      "美金(USD) 31.505\n",
      "港幣(HKD) 4.051\n",
      "英鎊(GBP) 41.23\n",
      "澳幣(AUD) 21.5\n",
      "加拿大幣(CAD) 24.08\n",
      "新加坡幣(SGD) 23.87\n",
      "瑞士法郎(CHF) 36.63\n",
      "日圓(JPY) 0.2262\n",
      "南非幣(ZAR) -\n",
      "瑞典幣(SEK) 3.14\n",
      "紐元(NZD) 19.79\n",
      "泰幣(THB) 0.9737\n",
      "菲國比索(PHP) 0.638\n",
      "印尼幣(IDR) 0.00238\n",
      "歐元(EUR) 35.13\n",
      "韓元(KRW) 0.02666\n",
      "越南盾(VND) 0.00148\n",
      "馬來幣(MYR) 7.345\n",
      "人民幣(CNY) 4.434\n"
     ]
    }
   ],
   "source": [
    "#資訊須從table、tbody、tr才能抓到\n",
    "for single_tr in bsObj.find(\"table\", {\"title\":\"牌告匯率\"}).find(\"tbody\").findAll(\"tr\"):\n",
    "    cell = single_tr.findAll(\"td\")\n",
    "    currency_name = cell[0].find(\"div\", {\"class\":\"visible-phone\"}).contents[0]\n",
    "    currency_name = currency_name.replace(\"\\r\",\"\")\n",
    "    currency_name = currency_name.replace(\"\\n\",\"\")\n",
    "    currency_name = currency_name.replace(\" \",\"\")\n",
    "    currency_rate = cell[2].contents[0]\n",
    "    print(currency_name, currency_rate)\n",
    "    file_name = \"E2-1-1-1\" + currency_name + \".csv\"\n",
    "    now_time = strftime(\"%Y-%m-%d %H:%M:%S\", localtime())\n",
    "    if not exists(file_name):\n",
    "        data = [['時間', '匯率'], [now_time, currency_rate]]\n",
    "    else:\n",
    "        data = [[now_time, currency_rate]]\n",
    "    f = open(file_name, \"a\")\n",
    "    w = csv.writer(f)\n",
    "    w.writerows(data)\n",
    "    f.close()"
   ]
  },
  {
   "cell_type": "code",
   "execution_count": 8,
   "id": "418b76a3",
   "metadata": {},
   "outputs": [
    {
     "name": "stdout",
     "output_type": "stream",
     "text": [
      "美金(USD) 31.505\n",
      "港幣(HKD) 4.051\n",
      "英鎊(GBP) 41.23\n",
      "澳幣(AUD) 21.5\n",
      "加拿大幣(CAD) 24.08\n",
      "新加坡幣(SGD) 23.87\n",
      "瑞士法郎(CHF) 36.63\n",
      "日圓(JPY) 0.2262\n",
      "南非幣(ZAR) -\n",
      "瑞典幣(SEK) 3.14\n",
      "紐元(NZD) 19.79\n",
      "泰幣(THB) 0.9737\n",
      "菲國比索(PHP) 0.638\n",
      "印尼幣(IDR) 0.00238\n",
      "歐元(EUR) 35.13\n",
      "韓元(KRW) 0.02666\n",
      "越南盾(VND) 0.00148\n",
      "馬來幣(MYR) 7.345\n",
      "人民幣(CNY) 4.434\n"
     ]
    }
   ],
   "source": [
    "#資訊須從table、tbody、tr才能抓到\n",
    "for single_tr in bsObj.find(\"table\", {\"title\":\"牌告匯率\"}).find(\"tbody\").findAll(\"tr\"):\n",
    "    cell = single_tr.findAll(\"td\")\n",
    "    currency_name = cell[0].find(\"div\", {\"class\":\"visible-phone\"}).contents[0]\n",
    "    currency_name = currency_name.replace(\"\\r\",\"\")\n",
    "    currency_name = currency_name.replace(\"\\n\",\"\")\n",
    "    currency_name = currency_name.replace(\" \",\"\")\n",
    "    currency_rate = cell[2].contents[0]\n",
    "    print(currency_name, currency_rate)"
   ]
  },
  {
   "cell_type": "code",
   "execution_count": null,
   "id": "fb364da3",
   "metadata": {},
   "outputs": [],
   "source": []
  },
  {
   "cell_type": "code",
   "execution_count": null,
   "id": "2def67b2",
   "metadata": {},
   "outputs": [],
   "source": []
  },
  {
   "cell_type": "code",
   "execution_count": null,
   "id": "d05b5f4d",
   "metadata": {},
   "outputs": [],
   "source": []
  }
 ],
 "metadata": {
  "kernelspec": {
   "display_name": "Python 3",
   "language": "python",
   "name": "python3"
  },
  "language_info": {
   "codemirror_mode": {
    "name": "ipython",
    "version": 3
   },
   "file_extension": ".py",
   "mimetype": "text/x-python",
   "name": "python",
   "nbconvert_exporter": "python",
   "pygments_lexer": "ipython3",
   "version": "3.8.8"
  }
 },
 "nbformat": 4,
 "nbformat_minor": 5
}
