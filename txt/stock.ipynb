{
 "cells": [
  {
   "cell_type": "code",
   "execution_count": 2,
   "id": "e2a0a901",
   "metadata": {},
   "outputs": [
    {
     "name": "stdout",
     "output_type": "stream",
     "text": [
      "每股價格:209.00, 每日需購股數:   68\n",
      "每股價格:207.00, 每日需購股數:   68\n",
      "每股價格:208.50, 每日需購股數:   68\n",
      "每股價格:207.50, 每日需購股數:   68\n",
      "每股價格:206.00, 每日需購股數:   69\n"
     ]
    }
   ],
   "source": [
    "#文字檔讀取與寫入：台積電存股規劃\n",
    "import math\n",
    "with open('data5.txt', 'r') as fin: \n",
    "    with open('data5_w.txt', 'w') as fout:\n",
    "        for line in fin:\n",
    "            data=math.ceil(20/(float(line)*0.001425))\n",
    "            print('每股價格:%5.2f, 每日需購股數:%5.0f' %(float(line), data))  \n",
    "            fout.write(str(data)+'\\n')"
   ]
  }
 ],
 "metadata": {
  "kernelspec": {
   "display_name": "Python 3",
   "language": "python",
   "name": "python3"
  },
  "language_info": {
   "codemirror_mode": {
    "name": "ipython",
    "version": 3
   },
   "file_extension": ".py",
   "mimetype": "text/x-python",
   "name": "python",
   "nbconvert_exporter": "python",
   "pygments_lexer": "ipython3",
   "version": "3.8.8"
  }
 },
 "nbformat": 4,
 "nbformat_minor": 5
}
