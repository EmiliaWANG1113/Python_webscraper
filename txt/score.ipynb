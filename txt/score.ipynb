{
 "cells": [
  {
   "cell_type": "code",
   "execution_count": 2,
   "id": "4324b0f9",
   "metadata": {},
   "outputs": [],
   "source": [
    "#分析班級電腦課程期末考試情況\n",
    "f= open(\"score.txt\")\n",
    "a = f.read()\n",
    "L = a.split( )"
   ]
  },
  {
   "cell_type": "code",
   "execution_count": 3,
   "id": "5da51a8b",
   "metadata": {},
   "outputs": [],
   "source": [
    "#串列L將字串物件著轉換為整數\n",
    "for i in range(0,len(L)):\n",
    "    L[ i] = int(L[ i])"
   ]
  },
  {
   "cell_type": "code",
   "execution_count": 4,
   "id": "2a937321",
   "metadata": {},
   "outputs": [],
   "source": [
    "#分類統計各級別人數到列表 c\n",
    "c=  [0,0,0,0,0,0]\n",
    "for x in L:\n",
    "    if x >= 90:\n",
    "        c[0] += 1 \n",
    "    elif  x >= 80:\n",
    "        c[1] += 1\n",
    "    elif  x >= 70:\n",
    "        c[2] += 1 \n",
    "    elif  x >= 60:\n",
    "        c[3] += 1 \n",
    "    elif   x>= 40:\n",
    "        c[4] += 1\n",
    "    else:\n",
    "        c[5] += 1"
   ]
  },
  {
   "cell_type": "code",
   "execution_count": 5,
   "id": "e742139e",
   "metadata": {},
   "outputs": [
    {
     "name": "stdout",
     "output_type": "stream",
     "text": [
      "90 分以上15 人,89-80 分22 人,79-70 分9 人,69-60 分8 人,59-40 分4 人,39 分以下5 人\n"
     ]
    }
   ],
   "source": [
    "#輸出各級別統計結果\n",
    "print(\"90 分以上%d 人\"%c[0],end = ',') \n",
    "print(\"89-80 分%d 人\"%c[1],end =  ',') \n",
    "print( \"79-70 分%d 人\"%c[2],end = ',') \n",
    "print(\"69-60 分%d 人\"%c[3],end = ',') \n",
    "print(\"59-40 分%d 人\"%c[4 ],end = ',')\n",
    "print(\"39 分以下%d 人\"%c[5 ],end =  '\\n')"
   ]
  }
 ],
 "metadata": {
  "kernelspec": {
   "display_name": "Python 3",
   "language": "python",
   "name": "python3"
  },
  "language_info": {
   "codemirror_mode": {
    "name": "ipython",
    "version": 3
   },
   "file_extension": ".py",
   "mimetype": "text/x-python",
   "name": "python",
   "nbconvert_exporter": "python",
   "pygments_lexer": "ipython3",
   "version": "3.8.8"
  }
 },
 "nbformat": 4,
 "nbformat_minor": 5
}
